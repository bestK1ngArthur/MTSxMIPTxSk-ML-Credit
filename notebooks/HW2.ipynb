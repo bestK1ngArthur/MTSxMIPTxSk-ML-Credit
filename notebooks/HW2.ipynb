{
 "cells": [
  {
   "cell_type": "code",
   "execution_count": 1,
   "metadata": {},
   "outputs": [],
   "source": [
    "import pandas as pd\n",
    "import numpy as np\n",
    "import matplotlib.pyplot as plt\n",
    "import seaborn as sns\n",
    "import math\n",
    "from sklearn import preprocessing\n",
    "from sklearn.linear_model import LogisticRegression\n",
    "from sklearn.model_selection import KFold\n",
    "from sklearn.metrics import roc_auc_score\n",
    "from sklearn.metrics import mean_squared_error, mean_squared_log_error\n",
    "from collections import namedtuple\n",
    "\n",
    "sns.set()"
   ]
  },
  {
   "cell_type": "code",
   "execution_count": 2,
   "metadata": {},
   "outputs": [],
   "source": [
    "pd.options.display.max_columns = 500"
   ]
  },
  {
   "cell_type": "code",
   "execution_count": 3,
   "metadata": {},
   "outputs": [],
   "source": [
    "train = pd.read_csv('../data/raw/application_train.csv')\n",
    "test = pd.read_csv('../data/raw/application_test.csv')\n",
    "sample_submission = pd.read_csv('../data/raw/sample_submission.csv')"
   ]
  },
  {
   "cell_type": "markdown",
   "metadata": {},
   "source": [
    "# Домашнее задание №2\n",
    "\n",
    "*Ниже описание для ДЗ №1*\n",
    "\n",
    "Ваша задача изучить как различные преобразования влияют на модель и итоговый результат. \n",
    "\n",
    "1) Для удобства написать функцию, которая реализовала бы кросс-валидацию. Данная функция принимает на вход данные и другие аргументы на выше усмотрение, на выходе скор на кроссвалидации и его стандартное отклонение.\n",
    "\n",
    "2) Сделать несколько различных моделей с различными признаками и способами обработки признаков.\n",
    "\n",
    "    1. Например в первой модели будут использованы  непрерывные признаки   ['metro_km_walk', 'kremlin_km', 'full_sq'] с заполненными пропусками\n",
    "    \n",
    "    2. Во второй модели нормируйте признаки из первой модели (std=1, mean = 0). Изменился ли результат? \n",
    "    \n",
    "    3. Во второй модели добавлены преобразованные различным образом категориальне признаки ['product_type' , 'sub_area' ] и т.д.\n",
    "    \n",
    "    4. В третьей добавлены datetime признаки \n",
    "    \n",
    "    5. И так далее. Попробуйте реализовать различные гипотезы\n",
    "\n",
    "3) Для каждой модели нужно сделать кросс-валидацию и засабмитить предсказание на тестовой выборке на кагл\n",
    "\n",
    "4) Построить график зависимости Leader board score от score на кросс-валидации для всех 5 моделей. \n",
    "\n",
    "5) Написать отчет с выводами. \n",
    "\n",
    "\n",
    "\n",
    "P.S. Не забудьте про то, что вы можете делать модель для предсказания price_m2, а итоговый результат подсчитывается по price_doc\n",
    "\n",
    "P.P.S.  Все преобразования, которые вы делаете нужно проделывать и с тестовой выборкой!\n",
    "\n",
    "P.P.P.S. Можно использовать готовые функции и преобразования из sklearn."
   ]
  },
  {
   "cell_type": "markdown",
   "metadata": {},
   "source": [
    "## Функция для кроссвалидации"
   ]
  },
  {
   "cell_type": "code",
   "execution_count": 4,
   "metadata": {},
   "outputs": [],
   "source": [
    "def cross_validate_score(data, features, target):\n",
    "    roc_auc_list = []\n",
    "\n",
    "    kf = KFold(n_splits=5, shuffle=True)\n",
    "\n",
    "    for i, (train_index, val_index) in enumerate(kf.split(data)):\n",
    "        train_part = data.loc[train_index, :]\n",
    "        val_part = data.loc[val_index, :]\n",
    "\n",
    "        model = LogisticRegression(class_weight = 'balanced')\n",
    "        model.fit(X=train_part[features], y=train_part[target])\n",
    "        \n",
    "        val_prediction = model.predict_proba(val_part[features])\n",
    "        roc_auc = roc_auc_score(val_part[target], val_prediction[:, 1])        \n",
    "        roc_auc_list.append(roc_auc)\n",
    "\n",
    "    Score = namedtuple('Score', ['roc_auc_means'])\n",
    "        \n",
    "    return Score(np.mean(roc_auc_list))"
   ]
  },
  {
   "cell_type": "markdown",
   "metadata": {},
   "source": [
    "## Строим модели и валидируем\n",
    "\n",
    "### Первая модель\n",
    "В первой модели будут использованы  непрерывные признаки   [`AMT_CREDIT`, `AMT_ANNUITY`, `AMT_INCOME_TOTAL`] с заполненными пропусками."
   ]
  },
  {
   "cell_type": "code",
   "execution_count": 5,
   "metadata": {},
   "outputs": [],
   "source": [
    "features = ['AMT_CREDIT', 'AMT_ANNUITY', 'AMT_INCOME_TOTAL']\n",
    "target = 'TARGET'\n",
    "\n",
    "train_data_1 = train.copy()\n",
    "train_data_1[features] = train_data_1[features].fillna(0)\n",
    "\n",
    "test_data_1 = test.copy()\n",
    "test_data_1[features] = test_data_1[features].fillna(0)\n",
    "\n",
    "model1 = LogisticRegression(class_weight = 'balanced')\n",
    "model1.fit(X=train_data_1[features], y=train_data_1[target])\n",
    "\n",
    "sample_submission[target] = model1.predict(test_data_1[features])\n",
    "\n",
    "# Save model if needed\n",
    "# sample_submission.to_csv('predict_1.csv', index=False)"
   ]
  },
  {
   "cell_type": "code",
   "execution_count": 6,
   "metadata": {},
   "outputs": [
    {
     "name": "stdout",
     "output_type": "stream",
     "text": [
      "Model 1 ('AMT_CREDIT', 'AMT_ANNUITY', 'AMT_INCOME_TOTAL')\n",
      "Cross-validation: 0.5383677966095579\n",
      "Kaggle: 0.55585\n"
     ]
    }
   ],
   "source": [
    "cross_score_1 = cross_validate_score(train_data_1, features, target).roc_auc_means\n",
    "kaggle_score_1 = 0.55585\n",
    "\n",
    "print('Model 1 (\\'AMT_CREDIT\\', \\'AMT_ANNUITY\\', \\'AMT_INCOME_TOTAL\\')')\n",
    "print('Cross-validation: {0}\\nKaggle: {1}'.format(cross_score_1, kaggle_score_1))"
   ]
  },
  {
   "cell_type": "markdown",
   "metadata": {},
   "source": [
    "### Вторая модель\n",
    "Во второй модели будут использованы нормированные непрерывные признаки [`AMT_CREDIT`, `AMT_ANNUITY`, `AMT_INCOME_TOTAL`] с заполненными пропусками."
   ]
  },
  {
   "cell_type": "code",
   "execution_count": 7,
   "metadata": {},
   "outputs": [],
   "source": [
    "features = ['AMT_CREDIT', 'AMT_ANNUITY', 'AMT_INCOME_TOTAL']\n",
    "target = 'TARGET'\n",
    "\n",
    "mm_scaler = preprocessing.MinMaxScaler() # [0, 1]\n",
    "\n",
    "train_data_2 = train.copy()\n",
    "train_data_2[features] = mm_scaler.fit_transform(train_data_2[features].fillna(0))\n",
    "\n",
    "test_data_2 = test.copy()\n",
    "test_data_2[features] = mm_scaler.fit_transform(test_data_2[features].fillna(0))\n",
    "\n",
    "model2 = LogisticRegression(class_weight = 'balanced')\n",
    "model2.fit(X=train_data_2[features], y=train_data_2[target])\n",
    "\n",
    "sample_submission[target] = model2.predict(test_data_2[features])\n",
    "\n",
    "# Save model if needed\n",
    "# sample_submission.to_csv('predict_2.csv', index=False)"
   ]
  },
  {
   "cell_type": "code",
   "execution_count": 8,
   "metadata": {},
   "outputs": [
    {
     "name": "stdout",
     "output_type": "stream",
     "text": [
      "Model 2 ('AMT_CREDIT', 'AMT_ANNUITY', 'AMT_INCOME_TOTAL')\n",
      "Cross-validation: 0.5310827547965208\n",
      "Kaggle: 0.54383\n"
     ]
    }
   ],
   "source": [
    "cross_score_2 = cross_validate_score(train_data_2, features, target).roc_auc_means\n",
    "kaggle_score_2 = 0.54383\n",
    "\n",
    "print('Model 2 (\\'AMT_CREDIT\\', \\'AMT_ANNUITY\\', \\'AMT_INCOME_TOTAL\\')')\n",
    "print('Cross-validation: {0}\\nKaggle: {1}'.format(cross_score_2, kaggle_score_2))"
   ]
  },
  {
   "cell_type": "markdown",
   "metadata": {},
   "source": [
    "### Третья модель\n",
    "В третьей модели к второй модели добавлены преобразованные категориальный признак `NAME_FAMILY_STATUS`."
   ]
  },
  {
   "cell_type": "code",
   "execution_count": 9,
   "metadata": {
    "scrolled": true
   },
   "outputs": [],
   "source": [
    "features = ['AMT_CREDIT', 'AMT_ANNUITY', 'AMT_INCOME_TOTAL', 'NAME_FAMILY_STATUS']\n",
    "target = 'TARGET'\n",
    "\n",
    "family_status = {\n",
    "    'Married': 0,\n",
    "    'Single / not married': 1,\n",
    "    'Civil marriage': 2,\n",
    "    'Widow': 3,\n",
    "    'Separated': 4,\n",
    "    'Unknown': 5\n",
    "}\n",
    "\n",
    "train_data_3 = train_data_2.copy()\n",
    "train_data_3['NAME_FAMILY_STATUS'] = train_data_3['NAME_FAMILY_STATUS'].replace(family_status)\n",
    "\n",
    "test_data_3 = test_data_2.copy()\n",
    "test_data_3['NAME_FAMILY_STATUS'] = test_data_3['NAME_FAMILY_STATUS'].replace(family_status)\n",
    "\n",
    "model3 = LogisticRegression(class_weight = 'balanced')\n",
    "model3.fit(X=train_data_3[features], y=train_data_3[target])\n",
    "\n",
    "sample_submission[target] = model3.predict(test_data_3[features])\n",
    "\n",
    "# Save model if needed\n",
    "# sample_submission.to_csv('predict_3.csv', index=False)"
   ]
  },
  {
   "cell_type": "code",
   "execution_count": 10,
   "metadata": {},
   "outputs": [
    {
     "name": "stdout",
     "output_type": "stream",
     "text": [
      "Model 3 ('AMT_CREDIT', 'AMT_ANNUITY', 'AMT_INCOME_TOTAL', 'NAME_FAMILY_STATUS'\n",
      "Cross-validation: 0.5324075366956271\n",
      "Kaggle: 0.54506\n"
     ]
    }
   ],
   "source": [
    "cross_score_3 = cross_validate_score(train_data_3, features, target).roc_auc_means\n",
    "kaggle_score_3 = 0.54506\n",
    "\n",
    "print('Model 3 (\\'AMT_CREDIT\\', \\'AMT_ANNUITY\\', \\'AMT_INCOME_TOTAL\\', \\'NAME_FAMILY_STATUS\\'')\n",
    "print('Cross-validation: {0}\\nKaggle: {1}'.format(cross_score_3, kaggle_score_3))"
   ]
  },
  {
   "cell_type": "markdown",
   "metadata": {},
   "source": [
    "### Четвёртая модель\n",
    "В чётвертой модели к третьей модели добавлен признак `CODE_GENDER`."
   ]
  },
  {
   "cell_type": "code",
   "execution_count": 11,
   "metadata": {},
   "outputs": [],
   "source": [
    "features = ['AMT_CREDIT', 'AMT_ANNUITY', 'AMT_INCOME_TOTAL', 'NAME_FAMILY_STATUS', 'CODE_GENDER']\n",
    "target = 'TARGET'\n",
    "\n",
    "gender = {\n",
    "    'M': 0,\n",
    "    'F': 1,\n",
    "    'XNA': 2\n",
    "}\n",
    "\n",
    "train_data_4 = train_data_3.copy()\n",
    "train_data_4['CODE_GENDER'] = train_data_4['CODE_GENDER'].replace(gender)\n",
    "\n",
    "test_data_4 = test_data_3.copy()\n",
    "test_data_4['CODE_GENDER'] = test_data_4['CODE_GENDER'].replace(gender)\n",
    "\n",
    "model4 = LogisticRegression(class_weight = 'balanced')\n",
    "model4.fit(X=train_data_4[features], y=train_data_4[target])\n",
    "\n",
    "sample_submission[target] = model4.predict(test_data_4[features])\n",
    "\n",
    "# Save model if needed\n",
    "# sample_submission.to_csv('predict_4.csv', index=False)"
   ]
  },
  {
   "cell_type": "code",
   "execution_count": 12,
   "metadata": {},
   "outputs": [
    {
     "name": "stdout",
     "output_type": "stream",
     "text": [
      "Model 4 ('AMT_CREDIT', 'AMT_ANNUITY', 'AMT_INCOME_TOTAL', 'NAME_FAMILY_STATUS', 'CODE_GENDER'\n",
      "Cross-validation: 0.5629607237937824\n",
      "Kaggle: 0.56463\n"
     ]
    }
   ],
   "source": [
    "cross_score_4 = cross_validate_score(train_data_4, features, target).roc_auc_means\n",
    "kaggle_score_4 = 0.56463\n",
    "\n",
    "print('Model 4 (\\'AMT_CREDIT\\', \\'AMT_ANNUITY\\', \\'AMT_INCOME_TOTAL\\', \\'NAME_FAMILY_STATUS\\', \\'CODE_GENDER\\'')\n",
    "print('Cross-validation: {0}\\nKaggle: {1}'.format(cross_score_4, kaggle_score_4))"
   ]
  },
  {
   "cell_type": "markdown",
   "metadata": {},
   "source": [
    "### Пятая модель\n",
    "В пятой модели к четвертой модели добавлен признак `DAYS_EMPLOYED`."
   ]
  },
  {
   "cell_type": "code",
   "execution_count": 13,
   "metadata": {},
   "outputs": [],
   "source": [
    "features = ['AMT_CREDIT', 'AMT_ANNUITY', 'AMT_INCOME_TOTAL', 'NAME_FAMILY_STATUS', 'CODE_GENDER', 'DAYS_EMPLOYED']\n",
    "target = 'TARGET'\n",
    "\n",
    "train_data_5 = train_data_4.copy()\n",
    "train_data_5['DAYS_EMPLOYED'] = train_data_5['DAYS_EMPLOYED'].fillna(0)\n",
    "\n",
    "test_data_5 = test_data_4.copy()\n",
    "test_data_5['DAYS_EMPLOYED'] = test_data_5['DAYS_EMPLOYED'].fillna(0)\n",
    "\n",
    "model5 = LogisticRegression(class_weight = 'balanced')\n",
    "model5.fit(X=train_data_5[features], y=train_data_5[target])\n",
    "\n",
    "sample_submission[target] = model5.predict(test_data_5[features])\n",
    "\n",
    "# Save model if needed\n",
    "# sample_submission.to_csv('predict_5.csv', index=False)"
   ]
  },
  {
   "cell_type": "code",
   "execution_count": 14,
   "metadata": {},
   "outputs": [
    {
     "name": "stdout",
     "output_type": "stream",
     "text": [
      "Model 5 ('AMT_CREDIT', 'AMT_ANNUITY', 'AMT_INCOME_TOTAL', 'NAME_FAMILY_STATUS', 'CODE_GENDER', 'DAYS_EMPLOYED'\n",
      "Cross-validation: 0.4738655749025866\n",
      "Kaggle: 0.53413\n"
     ]
    }
   ],
   "source": [
    "cross_score_5 = cross_validate_score(train_data_5, features, target).roc_auc_means\n",
    "kaggle_score_5 = 0.53413\n",
    "\n",
    "print('Model 5 (\\'AMT_CREDIT\\', \\'AMT_ANNUITY\\', \\'AMT_INCOME_TOTAL\\', \\'NAME_FAMILY_STATUS\\', \\'CODE_GENDER\\', \\'DAYS_EMPLOYED\\'')\n",
    "print('Cross-validation: {0}\\nKaggle: {1}'.format(cross_score_5, kaggle_score_5))"
   ]
  },
  {
   "cell_type": "markdown",
   "metadata": {},
   "source": [
    "## Сравнение и график"
   ]
  },
  {
   "cell_type": "code",
   "execution_count": 15,
   "metadata": {},
   "outputs": [
    {
     "data": {
      "image/png": "[encoded data removed]",
      "text/plain": [
       "<Figure size 432x288 with 1 Axes>"
      ]
     },
     "metadata": {},
     "output_type": "display_data"
    }
   ],
   "source": [
    "x = [cross_score_1, cross_score_2, cross_score_3, cross_score_4, cross_score_5]\n",
    "y = [kaggle_score_1, kaggle_score_2, kaggle_score_3, kaggle_score_4, kaggle_score_5]\n",
    "\n",
    "plt.title('Public Kaggle Score')\n",
    "plt.plot(x, y, 'ro')\n",
    "plt.show()"
   ]
  }
 ],
 "metadata": {
  "kernelspec": {
   "display_name": "Python 3 (ipykernel)",
   "language": "python",
   "name": "python3"
  },
  "language_info": {
   "codemirror_mode": {
    "name": "ipython",
    "version": 3
   },
   "file_extension": ".py",
   "mimetype": "text/x-python",
   "name": "python",
   "nbconvert_exporter": "python",
   "pygments_lexer": "ipython3",
   "version": "3.9.9"
  }
 },
 "nbformat": 4,
 "nbformat_minor": 1
}
